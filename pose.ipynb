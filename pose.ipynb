{
 "cells": [
  {
   "cell_type": "code",
   "execution_count": 4,
   "metadata": {},
   "outputs": [],
   "source": [
    "import cv2 as cv\n",
    "import numpy as np\n",
    "\n",
    "\n",
    "net = cv.dnn.readNetFromTensorflow(\"graph_opt.pb\")\n",
    "\n",
    "\n",
    "BODY_PARTS = { \"Nose\": 0, \"Neck\": 1, \"RShoulder\": 2, \"RElbow\": 3, \"RWrist\": 4,\n",
    "               \"LShoulder\": 5, \"LElbow\": 6, \"LWrist\": 7, \"RHip\": 8, \"RKnee\": 9,\n",
    "               \"RAnkle\": 10, \"LHip\": 11, \"LKnee\": 12, \"LAnkle\": 13, \"REye\": 14,\n",
    "               \"LEye\": 15, \"REar\": 16, \"LEar\": 17, \"Background\": 18 }\n",
    "\n",
    "POSE_PAIRS = [ [\"Neck\", \"RShoulder\"], [\"Neck\", \"LShoulder\"], [\"RShoulder\", \"RElbow\"],\n",
    "               [\"RElbow\", \"RWrist\"], [\"LShoulder\", \"LElbow\"], [\"LElbow\", \"LWrist\"],\n",
    "               [\"Neck\", \"RHip\"], [\"RHip\", \"RKnee\"], [\"RKnee\", \"RAnkle\"], [\"Neck\", \"LHip\"],\n",
    "               [\"LHip\", \"LKnee\"], [\"LKnee\", \"LAnkle\"], [\"Neck\", \"Nose\"], [\"Nose\", \"REye\"],\n",
    "               [\"REye\", \"REar\"], [\"Nose\", \"LEye\"], [\"LEye\", \"LEar\"] ]\n",
    "\n",
    "image_path = \"image2.jpg\"  \n",
    "frame = cv.imread(image_path)\n",
    "\n",
    "frameHeight, frameWidth = frame.shape[:2]\n",
    "net.setInput(cv.dnn.blobFromImage(frame, 1.0, (368, 368), (127.5, 127.5, 127.5), swapRB=True, crop=False))\n",
    "out = net.forward()\n",
    "\n",
    "points = []\n",
    "for i in range(len(BODY_PARTS)):\n",
    "    heatMap = out[0, i, :, :]\n",
    "    _, conf, _, point = cv.minMaxLoc(heatMap)\n",
    "    x = int((frameWidth * point[0]) / heatMap.shape[1])\n",
    "    y = int((frameHeight * point[1]) / heatMap.shape[0])\n",
    "    points.append((x, y) if conf > 0.2 else None)\n",
    "\n",
    "for pair in POSE_PAIRS:\n",
    "    partFrom, partTo = pair\n",
    "    idFrom, idTo = BODY_PARTS[partFrom], BODY_PARTS[partTo]\n",
    "    if points[idFrom] and points[idTo]:\n",
    "        cv.line(frame, points[idFrom], points[idTo], (0, 255, 0), 3)\n",
    "        cv.circle(frame, points[idFrom], 3, (0, 0, 255), -1)\n",
    "        cv.circle(frame, points[idTo], 3, (0, 0, 255), -1)\n",
    "\n",
    "cv.imshow('Pose Estimation', frame)\n",
    "cv.imwrite('output_image.jpg', frame)  \n",
    "cv.waitKey(0)\n",
    "cv.destroyAllWindows()\n"
   ]
  }
 ],
 "metadata": {
  "kernelspec": {
   "display_name": "pvenv",
   "language": "python",
   "name": "python3"
  },
  "language_info": {
   "codemirror_mode": {
    "name": "ipython",
    "version": 3
   },
   "file_extension": ".py",
   "mimetype": "text/x-python",
   "name": "python",
   "nbconvert_exporter": "python",
   "pygments_lexer": "ipython3",
   "version": "3.12.3"
  }
 },
 "nbformat": 4,
 "nbformat_minor": 2
}
